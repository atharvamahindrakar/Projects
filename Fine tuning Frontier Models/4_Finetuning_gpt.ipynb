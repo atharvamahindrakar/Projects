{
 "cells": [
  {
   "cell_type": "markdown",
   "id": "db8736a7-ed94-441c-9556-831fa57b5a10",
   "metadata": {},
   "source": [
    "# The Product Pricer Continued\n",
    "\n",
    "A model that can estimate how much something costs, from its description.\n",
    "\n",
    "## AT LAST - it's time for Fine Tuning!\n",
    "\n",
    "After all this data preparation, and old school machine learning, we've finally arrived at the moment you've been waiting for. Fine-tuning a model."
   ]
  },
  {
   "cell_type": "code",
   "execution_count": 1,
   "id": "681c717b-4c24-4ac3-a5f3-3c5881d6e70a",
   "metadata": {},
   "outputs": [],
   "source": [
    "# imports\n",
    "\n",
    "import os\n",
    "import re\n",
    "import math\n",
    "import json\n",
    "import random\n",
    "from dotenv import load_dotenv\n",
    "from huggingface_hub import login\n",
    "from items import Item\n",
    "import matplotlib.pyplot as plt\n",
    "import numpy as np\n",
    "import pickle\n",
    "from collections import Counter\n",
    "from openai import OpenAI\n",
    "from anthropic import Anthropic"
   ]
  },
  {
   "cell_type": "code",
   "execution_count": null,
   "id": "21a3833e-4093-43b0-8f7b-839c50b911ea",
   "metadata": {},
   "outputs": [],
   "source": [
    "\n",
    "from testing import Tester"
   ]
  },
  {
   "cell_type": "code",
   "execution_count": null,
   "id": "36d05bdc-0155-4c72-a7ee-aa4e614ffd3c",
   "metadata": {},
   "outputs": [],
   "source": [
    "# environment\n",
    "\n",
    "load_dotenv()\n",
    "os.environ['OPENAI_API_KEY'] = os.getenv('OPENAI_API_KEY', 'your-key-if-not-using-env')\n",
    "\n"
   ]
  },
  {
   "cell_type": "code",
   "execution_count": 5,
   "id": "b0a6fb86-74a4-403c-ab25-6db2d74e9d2b",
   "metadata": {},
   "outputs": [],
   "source": [
    "openai = OpenAI()"
   ]
  },
  {
   "cell_type": "code",
   "execution_count": 6,
   "id": "c830ed3e-24ee-4af6-a07b-a1bfdcd39278",
   "metadata": {},
   "outputs": [],
   "source": [
    "%matplotlib inline"
   ]
  },
  {
   "cell_type": "code",
   "execution_count": 7,
   "id": "5c9b05f4-c9eb-462c-8d86-de9140a2d985",
   "metadata": {},
   "outputs": [],
   "source": [
    "# Let's avoid curating all our data again! Load in the pickle files:\n",
    "\n",
    "with open('train.pkl', 'rb') as file:\n",
    "    train = pickle.load(file)\n",
    "\n",
    "with open('test.pkl', 'rb') as file:\n",
    "    test = pickle.load(file)"
   ]
  },
  {
   "cell_type": "code",
   "execution_count": null,
   "id": "e8367135-f40e-43e1-8f3c-09e990ab1194",
   "metadata": {},
   "outputs": [],
   "source": [
    "# OpenAI recommends fine-tuning with populations of 50-100 examples\n",
    "# But as our examples are very small, we go with 200 examples (and 1 epoch)\n",
    "\n",
    "fine_tune_train = train[:200]\n",
    "fine_tune_validation = train[200:250]"
   ]
  },
  {
   "cell_type": "markdown",
   "id": "8be4a889-81c3-42b1-a2fc-034cdc7321a6",
   "metadata": {},
   "source": [
    "# Step 1\n",
    "\n",
    "Prepare our data for fine-tuning in JSONL (JSON Lines) format and upload to OpenAI"
   ]
  },
  {
   "cell_type": "code",
   "execution_count": null,
   "id": "8ae2fb3c-1cff-4ce3-911e-627c970edd7b",
   "metadata": {},
   "outputs": [],
   "source": [
    "# First let's work on a good prompt for a Frontier model\n",
    "\n",
    "def messages_for(item):\n",
    "    system_message = \"You estimate prices of items. Reply only with the price, no explanation\"\n",
    "    user_prompt = item.test_prompt().replace(\" to the nearest dollar\",\"\").replace(\"\\n\\nPrice is $\",\"\")\n",
    "    return [\n",
    "        {\"role\": \"system\", \"content\": system_message},\n",
    "        {\"role\": \"user\", \"content\": user_prompt},\n",
    "        {\"role\": \"assistant\", \"content\": f\"Price is ${item.price:.2f}\"}\n",
    "    ]"
   ]
  },
  {
   "cell_type": "code",
   "execution_count": 11,
   "id": "c0e5b56c-8a0b-4d8e-a112-ce87efb4e152",
   "metadata": {},
   "outputs": [],
   "source": [
    "# Convert the items into a list of json objects - a \"jsonl\" string\n",
    "# Each row represents a message in the form:\n",
    "# {\"messages\" : [{\"role\": \"system\", \"content\": \"You estimate prices...\n",
    "\n",
    "\n",
    "def make_jsonl(items):\n",
    "    result = \"\"\n",
    "    for item in items:\n",
    "        messages = messages_for(item)\n",
    "        messages_str = json.dumps(messages)\n",
    "        result += '{\"messages\": ' + messages_str +'}\\n'\n",
    "    return result.strip()"
   ]
  },
  {
   "cell_type": "code",
   "execution_count": 12,
   "id": "5e72de93-a6a6-4b35-855e-15786b97bf5f",
   "metadata": {},
   "outputs": [
    {
     "name": "stdout",
     "output_type": "stream",
     "text": [
      "{\"messages\": [{\"role\": \"system\", \"content\": \"You estimate prices of items. Reply only with the price, no explanation\"}, {\"role\": \"user\", \"content\": \"How much does this cost?\\n\\nGerber Danze 9-Inch Adjustable Showerarm with Escutcheon, Tumbled Bronze\\nProduct Description Danze 9-inch adjustable showerarm with escutcheon, tumbled bronze. Heavy-duty metal construction for durability and dependability. Allows you to adjust the showerhead for best angle and height. 9-Inch adjustable showerarm. High flow capacity. Tumbled bronze finish. Whether you\\u2019re building a new home or simply remodeling, Danze has numerous home d\\u00e9cor collections to choose from. Danze is an entrepreneurial company who believes that style and design have the power to transform any d\\u00e9cor! Danze products are manufactured using the highest quality materials for precise fit, finish, and dependability. Danze emphasis is on creating products that are an expression of our customers and their relentless search for\"}, {\"role\": \"assistant\", \"content\": \"Price is $109.36\"}]}\n",
      "{\"messages\": [{\"role\": \"system\", \"content\": \"You estimate prices of items. Reply only with the price, no explanation\"}, {\"role\": \"user\", \"content\": \"How much does this cost?\\n\\nRERPRO Dash Mount Phone Holder Compatible with Jeep Wrangler JK JL Gladiator JT 2021 2022 2023 New Ford Bronco 2/4 Door, ONLY Phone Part Which Mounts on All Picatinny Rail\\nRERPRO Dash Mount Phone Holder for RERPRO All Picatinny Rail NOTE This is only the Phone Holder Part, no rail bracket, you need to use it with all RERPRO rail brackets APPLICABLE PHONE Compatible with 4in - 7in phones. Universal fit for most phones APPLICABLE RAIL BRACKET A phone mount replacement fits our store item Compatible with Jeep Wrangler JK Compatible with Jeep Wrangler JT Gladiator JT Compatible with Ford Bronco WHAT YOU GET 1x phone holder If there are any questions, please free to\"}, {\"role\": \"assistant\", \"content\": \"Price is $33.99\"}]}\n",
      "{\"messages\": [{\"role\": \"system\", \"content\": \"You estimate prices of items. Reply only with the price, no explanation\"}, {\"role\": \"user\", \"content\": \"How much does this cost?\\n\\nHDHF 24Pack Ligh Up BatGlasses Party Supplie 4Color LED Glow GlassesGlow In Dark Party Favors GlowToy\\nNEON PARTY SUPPLIES SET OF 24 Gift set includes 24 Pairs of light-Up bat-glasses,Multicolor Neon Green & Pink & Red & Blue lights.These glow in the dark flashing glasses are great for neon glow party,night club,festivel,outdoor concerts,bar, birthdays, camping and raves and also can as gifts for friends. GLOW UP GLASSES FEATURE These led glasses feature 6 bright LEDs that shine brightly throughout the clear frame! Press the on/off button located on the top of the frame to activate the flashing LEDs!2 different modes are available fast flashing,slow flashing.The on/off button\"}, {\"role\": \"assistant\", \"content\": \"Price is $22.79\"}]}\n"
     ]
    }
   ],
   "source": [
    "print(make_jsonl(train[:3]))"
   ]
  },
  {
   "cell_type": "code",
   "execution_count": 13,
   "id": "7734bff0-95c4-4e67-a87e-7e2254e2c67d",
   "metadata": {},
   "outputs": [],
   "source": [
    "# Convert the items into jsonl and write them to a file\n",
    "\n",
    "def write_jsonl(items, filename):\n",
    "    with open(filename, \"w\") as f:\n",
    "        jsonl = make_jsonl(items)\n",
    "        f.write(jsonl)"
   ]
  },
  {
   "cell_type": "code",
   "execution_count": 14,
   "id": "393d3ad8-999a-4f99-8c04-339d9166d604",
   "metadata": {},
   "outputs": [],
   "source": [
    "write_jsonl(fine_tune_train, \"fine_tune_train.jsonl\")"
   ]
  },
  {
   "cell_type": "code",
   "execution_count": 15,
   "id": "8e23927f-d73e-4668-ac20-abe6f14a56cb",
   "metadata": {},
   "outputs": [],
   "source": [
    "write_jsonl(fine_tune_validation, \"fine_tune_validation.jsonl\")"
   ]
  },
  {
   "cell_type": "code",
   "execution_count": 16,
   "id": "d59ad8d2-c61a-448e-b7ed-232f1606970f",
   "metadata": {},
   "outputs": [],
   "source": [
    "with open(\"fine_tune_train.jsonl\", \"rb\") as f:\n",
    "    train_file = openai.files.create(file=f, purpose=\"fine-tune\")"
   ]
  },
  {
   "cell_type": "code",
   "execution_count": 17,
   "id": "083fefba-fd54-47ce-9ff3-aabbc200846f",
   "metadata": {},
   "outputs": [
    {
     "data": {
      "text/plain": [
       "FileObject(id='file-JxnQrihK5Lj81Dc8EGx5mk', bytes=190371, created_at=1741479112, filename='fine_tune_train.jsonl', object='file', purpose='fine-tune', status='processed', status_details=None, expires_at=None)"
      ]
     },
     "execution_count": 17,
     "metadata": {},
     "output_type": "execute_result"
    }
   ],
   "source": [
    "train_file"
   ]
  },
  {
   "cell_type": "code",
   "execution_count": 18,
   "id": "97df3360-0760-4422-a556-5f26d23de6dc",
   "metadata": {},
   "outputs": [],
   "source": [
    "with open(\"fine_tune_validation.jsonl\", \"rb\") as f:\n",
    "    validation_file = openai.files.create(file=f, purpose=\"fine-tune\")"
   ]
  },
  {
   "cell_type": "code",
   "execution_count": 19,
   "id": "a1abb8f3-9e52-4061-970c-fcf399d8ffa3",
   "metadata": {},
   "outputs": [
    {
     "data": {
      "text/plain": [
       "FileObject(id='file-6faJHQjXtYLELGWKag6Lwy', bytes=47015, created_at=1741479125, filename='fine_tune_validation.jsonl', object='file', purpose='fine-tune', status='processed', status_details=None, expires_at=None)"
      ]
     },
     "execution_count": 19,
     "metadata": {},
     "output_type": "execute_result"
    }
   ],
   "source": [
    "validation_file"
   ]
  },
  {
   "cell_type": "markdown",
   "id": "466052b9-9fb9-48f6-8cf9-c74e6ddc1394",
   "metadata": {},
   "source": [
    "# Step 2\n",
    "\n",
    "\n",
    "First set up your weights & biases free account at:\n",
    "\n",
    "https://wandb.ai\n",
    "\n",
    "From the Avatar >> Settings menu, near the bottom, you can create an API key.\n",
    "\n",
    "Then visit the OpenAI dashboard at:\n",
    "\n",
    "https://platform.openai.com/account/organization\n",
    "\n",
    "In the integrations section, you can add your Weights & Biases key.\n",
    "\n",
    "## And now time to Fine-tune!"
   ]
  },
  {
   "cell_type": "code",
   "execution_count": 20,
   "id": "c7add1a7-a746-4d6e-a5f8-e25629b8b527",
   "metadata": {},
   "outputs": [],
   "source": [
    "wandb_integration = {\"type\": \"wandb\", \"wandb\": {\"project\": \"gpt-pricer\"}}"
   ]
  },
  {
   "cell_type": "code",
   "execution_count": 21,
   "id": "49801e69-9277-4deb-9f33-99efb6b45ac2",
   "metadata": {},
   "outputs": [
    {
     "data": {
      "text/plain": [
       "'file-JxnQrihK5Lj81Dc8EGx5mk'"
      ]
     },
     "execution_count": 21,
     "metadata": {},
     "output_type": "execute_result"
    }
   ],
   "source": [
    "train_file.id"
   ]
  },
  {
   "cell_type": "code",
   "execution_count": 22,
   "id": "45421b86-5531-4e42-ab19-d6abbb8f4c13",
   "metadata": {},
   "outputs": [
    {
     "data": {
      "text/plain": [
       "FineTuningJob(id='ftjob-WoDeFGWnGPYKANiteWC0Rtji', created_at=1741479579, error=Error(code=None, message=None, param=None), fine_tuned_model=None, finished_at=None, hyperparameters=Hyperparameters(batch_size='auto', learning_rate_multiplier='auto', n_epochs=1), model='gpt-4o-mini-2024-07-18', object='fine_tuning.job', organization_id='org-UNQQEr7zksIWze5rnBWueqnw', result_files=[], seed=42, status='validating_files', trained_tokens=None, training_file='file-JxnQrihK5Lj81Dc8EGx5mk', validation_file='file-6faJHQjXtYLELGWKag6Lwy', estimated_finish=None, integrations=[], method=Method(dpo=None, supervised=MethodSupervised(hyperparameters=MethodSupervisedHyperparameters(batch_size='auto', learning_rate_multiplier='auto', n_epochs=1)), type='supervised'), user_provided_suffix='pricer', metadata=None)"
      ]
     },
     "execution_count": 22,
     "metadata": {},
     "output_type": "execute_result"
    }
   ],
   "source": [
    "openai.fine_tuning.jobs.create(\n",
    "    training_file=train_file.id,\n",
    "    validation_file=validation_file.id,\n",
    "    model=\"gpt-4o-mini-2024-07-18\",\n",
    "    seed=42,\n",
    "    hyperparameters={\"n_epochs\": 1},\n",
    "    suffix=\"pricer\"\n",
    ")"
   ]
  },
  {
   "cell_type": "code",
   "execution_count": 23,
   "id": "aeb9de2e-542c-4e83-81c7-b6745133e48b",
   "metadata": {},
   "outputs": [
    {
     "data": {
      "text/plain": [
       "SyncCursorPage[FineTuningJob](data=[FineTuningJob(id='ftjob-WoDeFGWnGPYKANiteWC0Rtji', created_at=1741479579, error=Error(code=None, message=None, param=None), fine_tuned_model=None, finished_at=None, hyperparameters=Hyperparameters(batch_size=1, learning_rate_multiplier=1.8, n_epochs=1), model='gpt-4o-mini-2024-07-18', object='fine_tuning.job', organization_id='org-UNQQEr7zksIWze5rnBWueqnw', result_files=[], seed=42, status='validating_files', trained_tokens=None, training_file='file-JxnQrihK5Lj81Dc8EGx5mk', validation_file='file-6faJHQjXtYLELGWKag6Lwy', estimated_finish=None, integrations=[], method=Method(dpo=None, supervised=MethodSupervised(hyperparameters=MethodSupervisedHyperparameters(batch_size=1, learning_rate_multiplier=1.8, n_epochs=1)), type='supervised'), user_provided_suffix='pricer', metadata=None)], has_more=False, object='list')"
      ]
     },
     "execution_count": 23,
     "metadata": {},
     "output_type": "execute_result"
    }
   ],
   "source": [
    "openai.fine_tuning.jobs.list(limit=1)"
   ]
  },
  {
   "cell_type": "code",
   "execution_count": 24,
   "id": "40d24873-8ff5-413f-b0d4-8f77c28f18e1",
   "metadata": {},
   "outputs": [],
   "source": [
    "job_id = openai.fine_tuning.jobs.list(limit=1).data[0].id"
   ]
  },
  {
   "cell_type": "code",
   "execution_count": 25,
   "id": "a32aef35-4b38-436c-ad00-d082f758efa7",
   "metadata": {},
   "outputs": [
    {
     "data": {
      "text/plain": [
       "'ftjob-WoDeFGWnGPYKANiteWC0Rtji'"
      ]
     },
     "execution_count": 25,
     "metadata": {},
     "output_type": "execute_result"
    }
   ],
   "source": [
    "job_id"
   ]
  },
  {
   "cell_type": "code",
   "execution_count": 26,
   "id": "a7e01247-c133-48e1-93d3-c79c399e6178",
   "metadata": {},
   "outputs": [
    {
     "data": {
      "text/plain": [
       "FineTuningJob(id='ftjob-WoDeFGWnGPYKANiteWC0Rtji', created_at=1741479579, error=Error(code=None, message=None, param=None), fine_tuned_model=None, finished_at=None, hyperparameters=Hyperparameters(batch_size=1, learning_rate_multiplier=1.8, n_epochs=1), model='gpt-4o-mini-2024-07-18', object='fine_tuning.job', organization_id='org-UNQQEr7zksIWze5rnBWueqnw', result_files=[], seed=42, status='validating_files', trained_tokens=None, training_file='file-JxnQrihK5Lj81Dc8EGx5mk', validation_file='file-6faJHQjXtYLELGWKag6Lwy', estimated_finish=None, integrations=[], method=Method(dpo=None, supervised=MethodSupervised(hyperparameters=MethodSupervisedHyperparameters(batch_size=1, learning_rate_multiplier=1.8, n_epochs=1)), type='supervised'), user_provided_suffix='pricer', metadata=None)"
      ]
     },
     "execution_count": 26,
     "metadata": {},
     "output_type": "execute_result"
    }
   ],
   "source": [
    "openai.fine_tuning.jobs.retrieve(job_id)"
   ]
  },
  {
   "cell_type": "code",
   "execution_count": 35,
   "id": "0f5150e1-b8de-485f-8eba-cf1e5b00c117",
   "metadata": {},
   "outputs": [
    {
     "data": {
      "text/plain": [
       "[FineTuningJobEvent(id='ftevent-zeHwBa7ZHsR0fZiemk0TJEec', created_at=1741480225, level='info', message='The job has successfully completed', object='fine_tuning.job.event', data={}, type='message'),\n",
       " FineTuningJobEvent(id='ftevent-yqOHRsqxv2BpdESIUIDL2PUD', created_at=1741480220, level='info', message='New fine-tuned model created', object='fine_tuning.job.event', data={}, type='message'),\n",
       " FineTuningJobEvent(id='ftevent-qd86BFmmaaVQlVuXF7D5OXjl', created_at=1741480173, level='info', message='Step 200/200: training loss=0.45, validation loss=0.88, full validation loss=1.01', object='fine_tuning.job.event', data={'step': 200, 'train_loss': 0.4470510482788086, 'valid_loss': 0.8792526721954346, 'total_steps': 200, 'full_valid_loss': 1.0104474401474, 'train_mean_token_accuracy': 0.875, 'valid_mean_token_accuracy': 0.875, 'full_valid_mean_token_accuracy': 0.81}, type='metrics'),\n",
       " FineTuningJobEvent(id='ftevent-hcgQrxhpRs7rkNWM0byzggXt', created_at=1741480163, level='info', message='Step 199/200: training loss=0.71', object='fine_tuning.job.event', data={'step': 199, 'train_loss': 0.7054846286773682, 'total_steps': 200, 'train_mean_token_accuracy': 0.875}, type='metrics'),\n",
       " FineTuningJobEvent(id='ftevent-0Oiem4dNqlP3jOXPtprSqAc4', created_at=1741480163, level='info', message='Step 198/200: training loss=1.25', object='fine_tuning.job.event', data={'step': 198, 'train_loss': 1.245915412902832, 'total_steps': 200, 'train_mean_token_accuracy': 0.75}, type='metrics'),\n",
       " FineTuningJobEvent(id='ftevent-cwjs1VCkwLqB0PITX2OlGZOo', created_at=1741480158, level='info', message='Step 197/200: training loss=1.29', object='fine_tuning.job.event', data={'step': 197, 'train_loss': 1.2916529178619385, 'total_steps': 200, 'train_mean_token_accuracy': 0.875}, type='metrics'),\n",
       " FineTuningJobEvent(id='ftevent-kjMOxEbA76y2aubteiKDfJGC', created_at=1741480158, level='info', message='Step 196/200: training loss=0.60', object='fine_tuning.job.event', data={'step': 196, 'train_loss': 0.595832347869873, 'total_steps': 200, 'train_mean_token_accuracy': 0.875}, type='metrics'),\n",
       " FineTuningJobEvent(id='ftevent-jiqhSHd0lKlSTLjXTy7odH6a', created_at=1741480158, level='info', message='Step 195/200: training loss=0.81', object='fine_tuning.job.event', data={'step': 195, 'train_loss': 0.8136739730834961, 'total_steps': 200, 'train_mean_token_accuracy': 0.875}, type='metrics'),\n",
       " FineTuningJobEvent(id='ftevent-I302Ij4Hfk5afNzi87Z0fxO3', created_at=1741480158, level='info', message='Step 194/200: training loss=0.56', object='fine_tuning.job.event', data={'step': 194, 'train_loss': 0.5614452362060547, 'total_steps': 200, 'train_mean_token_accuracy': 0.875}, type='metrics'),\n",
       " FineTuningJobEvent(id='ftevent-UoK2pfgpdQ3J8WG7qL1kXdBf', created_at=1741480158, level='info', message='Step 193/200: training loss=1.22', object='fine_tuning.job.event', data={'step': 193, 'train_loss': 1.2169091701507568, 'total_steps': 200, 'train_mean_token_accuracy': 0.75}, type='metrics')]"
      ]
     },
     "execution_count": 35,
     "metadata": {},
     "output_type": "execute_result"
    }
   ],
   "source": [
    "openai.fine_tuning.jobs.list_events(fine_tuning_job_id=job_id, limit=10).data"
   ]
  },
  {
   "cell_type": "markdown",
   "id": "066fef03-8338-4526-9df3-89b649ad4f0a",
   "metadata": {},
   "source": [
    "# Step 3\n",
    "\n",
    "Test our fine tuned model"
   ]
  },
  {
   "cell_type": "code",
   "execution_count": 36,
   "id": "fa4488cb-3c17-4eda-abd1-53c1c68a491b",
   "metadata": {},
   "outputs": [],
   "source": [
    "fine_tuned_model_name = openai.fine_tuning.jobs.retrieve(job_id).fine_tuned_model"
   ]
  },
  {
   "cell_type": "code",
   "execution_count": 37,
   "id": "e9370937-5a6f-4724-8265-b208663b4450",
   "metadata": {},
   "outputs": [
    {
     "data": {
      "text/plain": [
       "'ft:gpt-4o-mini-2024-07-18:personal:pricer:B8yqZAmp'"
      ]
     },
     "execution_count": 37,
     "metadata": {},
     "output_type": "execute_result"
    }
   ],
   "source": [
    "fine_tuned_model_name"
   ]
  },
  {
   "cell_type": "code",
   "execution_count": 38,
   "id": "66ea68e8-ab1b-4f0d-aba4-a59574d8f85e",
   "metadata": {},
   "outputs": [],
   "source": [
    "# The prompt\n",
    "\n",
    "def messages_for(item):\n",
    "    system_message = \"You estimate prices of items. Reply only with the price, no explanation\"\n",
    "    user_prompt = item.test_prompt().replace(\" to the nearest dollar\",\"\").replace(\"\\n\\nPrice is $\",\"\")\n",
    "    return [\n",
    "        {\"role\": \"system\", \"content\": system_message},\n",
    "        {\"role\": \"user\", \"content\": user_prompt},\n",
    "        {\"role\": \"assistant\", \"content\": \"Price is $\"}\n",
    "    ]"
   ]
  },
  {
   "cell_type": "code",
   "execution_count": 40,
   "id": "b1af1888-f94a-4106-b0d8-8a70939eec4e",
   "metadata": {},
   "outputs": [],
   "source": [
    "# A utility function to extract the price from a string\n",
    "\n",
    "def get_price(s):\n",
    "    s = s.replace('$','').replace(',','')\n",
    "    match = re.search(r\"[-+]?\\d*\\.\\d+|\\d+\", s)\n",
    "    return float(match.group()) if match else 0"
   ]
  },
  {
   "cell_type": "code",
   "execution_count": 42,
   "id": "501a2a7a-69c8-451b-bbc0-398bcb9e1612",
   "metadata": {},
   "outputs": [],
   "source": [
    "# The function for gpt-4o-mini\n",
    "\n",
    "def gpt_fine_tuned(item):\n",
    "    response = openai.chat.completions.create(\n",
    "        model=fine_tuned_model_name, \n",
    "        messages=messages_for(item),\n",
    "        seed=42,\n",
    "        max_tokens=7\n",
    "    )\n",
    "    reply = response.choices[0].message.content\n",
    "    return get_price(reply)"
   ]
  },
  {
   "cell_type": "code",
   "execution_count": 45,
   "id": "36bdd2c9-1859-4f99-a09f-3ec83b845b30",
   "metadata": {},
   "outputs": [
    {
     "name": "stdout",
     "output_type": "stream",
     "text": [
      "\u001b[92m1: Guess: $199.00 Truth: $195.99 Error: $3.01 SLE: 0.00 Item: Vertex Ultraphonix MKII Overdrive\u001b[0m\n",
      "\u001b[92m2: Guess: $29.99 Truth: $38.99 Error: $9.00 SLE: 0.07 Item: Wood Grip | Universal Conversion Kit | B...\u001b[0m\n",
      "\u001b[92m3: Guess: $32.00 Truth: $1.00 Error: $31.00 SLE: 7.86 Item: Traxxas 1726 Antenna, Tube, Vinyl Antenn...\u001b[0m\n",
      "\u001b[92m4: Guess: $349.99 Truth: $299.99 Error: $50.00 SLE: 0.02 Item: Jackson JS Series Dinky Arch Top JS32Q D...\u001b[0m\n",
      "\u001b[93m5: Guess: $262.47 Truth: $374.99 Error: $112.52 SLE: 0.13 Item: TOTO LPT754.8#01 Whitney Lavatory and Pe...\u001b[0m\n",
      "\u001b[93m6: Guess: $10.49 Truth: $64.95 Error: $54.46 SLE: 3.05 Item: Sliding Glass Patio Door Handle Set, Mor...\u001b[0m\n",
      "\u001b[92m7: Guess: $322.22 Truth: $279.99 Error: $42.23 SLE: 0.02 Item: First Watch / Homak 6-Gun Security Cabin...\u001b[0m\n",
      "\u001b[92m8: Guess: $154.65 Truth: $131.85 Error: $22.80 SLE: 0.03 Item: WEN 3921 16-inch Two-Direction Variable ...\u001b[0m\n",
      "\u001b[93m9: Guess: $139.98 Truth: $185.11 Error: $45.13 SLE: 0.08 Item: Tropwellhouse Crytal Ceiling Fan with Li...\u001b[0m\n",
      "\u001b[92m10: Guess: $69.99 Truth: $72.69 Error: $2.70 SLE: 0.00 Item: 8PACK LED Flush Mount Ceiling Light Fixt...\u001b[0m\n",
      "\u001b[92m11: Guess: $110.47 Truth: $121.95 Error: $11.48 SLE: 0.01 Item: DEWALT ATOMIC 20V MAX* Reciprocating Saw...\u001b[0m\n",
      "\u001b[91m12: Guess: $199.99 Truth: $105.92 Error: $94.07 SLE: 0.40 Item: SZXYKEJI 6-Lights Glass Chandelier，Moder...\u001b[0m\n",
      "\u001b[93m13: Guess: $164.50 Truth: $269.99 Error: $105.49 SLE: 0.24 Item: Warehouse of Tiffany 3884+BB75B Tiffany-...\u001b[0m\n",
      "\u001b[93m14: Guess: $109.99 Truth: $189.97 Error: $79.98 SLE: 0.29 Item: FIREOCITY Neon Signs Custom, Personalize...\u001b[0m\n",
      "\u001b[92m15: Guess: $972.66 Truth: $827.99 Error: $144.67 SLE: 0.03 Item: Sapphire Blue and White Adjustable Flour...\u001b[0m\n",
      "\u001b[91m16: Guess: $109.99 Truth: $209.00 Error: $99.01 SLE: 0.41 Item: ZipLighting Modern LED Ceiling Light Dim...\u001b[0m\n",
      "\u001b[92m17: Guess: $8.99 Truth: $7.99 Error: $1.00 SLE: 0.01 Item: Kakufunny 3 Pack Case for Gizmo Watch 2 ...\u001b[0m\n",
      "\u001b[91m18: Guess: $109.99 Truth: $204.72 Error: $94.73 SLE: 0.38 Item: Whse of Tiffany RL1054 Shine Crystal Cha...\u001b[0m\n",
      "\u001b[91m19: Guess: $22.99 Truth: $104.99 Error: $82.00 SLE: 2.21 Item: Mytee Products 18oz Vinyl Tarp Repair Ki...\u001b[0m\n",
      "\u001b[92m20: Guess: $22.98 Truth: $25.99 Error: $3.01 SLE: 0.01 Item: ECORELF 10Pcs Alive Doll Baby Doll Cloth...\u001b[0m\n",
      "\u001b[91m21: Guess: $127.22 Truth: $229.99 Error: $102.77 SLE: 0.35 Item: Mackie MR Series, Studio Monitor 6.5-Inc...\u001b[0m\n",
      "\u001b[92m22: Guess: $47.99 Truth: $79.99 Error: $32.00 SLE: 0.25 Item: Malibu LED Pivot Light, LED Low Voltage ...\u001b[0m\n",
      "\u001b[91m23: Guess: $154.65 Truth: $295.09 Error: $140.44 SLE: 0.41 Item: LTL Home Products MLB3684BHKD Millbrooke...\u001b[0m\n",
      "\u001b[93m24: Guess: $139.98 Truth: $199.99 Error: $60.01 SLE: 0.13 Item: Radiolink F121 FPV Mini RC Drone RTF wit...\u001b[0m\n",
      "\u001b[92m25: Guess: $143.65 Truth: $143.99 Error: $0.34 SLE: 0.00 Item: Kichler Eileen 14.25\" 2 Light LED Vanity...\u001b[0m\n",
      "\u001b[91m26: Guess: $1,271.69 Truth: $212.48 Error: $1,059.21 SLE: 3.19 Item: TPI CV45X Series CVX Radiant Cove Heater...\u001b[0m\n",
      "\u001b[92m27: Guess: $79.99 Truth: $109.99 Error: $30.00 SLE: 0.10 Item: Aozu Semi Flush Mount Ceiling Light 3-Li...\u001b[0m\n",
      "\u001b[93m28: Guess: $35.99 Truth: $102.99 Error: $67.00 SLE: 1.07 Item: LEDIMWO 4 inch 9W 3000K/4000K/5000K Sele...\u001b[0m\n",
      "\u001b[92m29: Guess: $14.98 Truth: $3.99 Error: $10.99 SLE: 1.35 Item: SXFSE Doll Accessories, Dollhouse Miniat...\u001b[0m\n",
      "\u001b[91m30: Guess: $262.47 Truth: $759.60 Error: $497.13 SLE: 1.12 Item: KWC Faucets 10.261.002.000 SIN Pull Down...\u001b[0m\n",
      "\u001b[92m31: Guess: $22.99 Truth: $37.99 Error: $15.00 SLE: 0.24 Item: ATMBnk ATM Savings Bank for Real Money, ...\u001b[0m\n",
      "\u001b[92m32: Guess: $66.47 Truth: $48.04 Error: $18.43 SLE: 0.10 Item: Scalextric Fomula E DS Techeeta 2019/20 ...\u001b[0m\n",
      "\u001b[93m33: Guess: $83.99 Truth: $39.99 Error: $44.00 SLE: 0.53 Item: ECOBRT Bathroom Vanity Light Fixtures 16...\u001b[0m\n",
      "\u001b[92m34: Guess: $22.99 Truth: $1.99 Error: $21.00 SLE: 4.34 Item: BERRYZILLA Never Stop Dreaming Decal Mot...\u001b[0m\n",
      "\u001b[92m35: Guess: $8.99 Truth: $6.99 Error: $2.00 SLE: 0.05 Item: TACOMEGE Purple Metal Cell Phone Ring Bu...\u001b[0m\n",
      "\u001b[93m36: Guess: $156.66 Truth: $90.85 Error: $65.81 SLE: 0.29 Item: Frigidaire 5303918344 Icemaker Kit\u001b[0m\n",
      "\u001b[92m37: Guess: $47.22 Truth: $30.00 Error: $17.22 SLE: 0.20 Item: Design House 190546 Springdale Privacy B...\u001b[0m\n",
      "\u001b[91m38: Guess: $47.22 Truth: $690.11 Error: $642.89 SLE: 7.09 Item: Greenlee 4938 Telco Technician Tool Kit\u001b[0m\n",
      "\u001b[92m39: Guess: $65.98 Truth: $35.73 Error: $30.25 SLE: 0.36 Item: SAMCAMI Miniature Dollhouse Furniture 1 ...\u001b[0m\n",
      "\u001b[92m40: Guess: $47.99 Truth: $42.99 Error: $5.00 SLE: 0.01 Item: Bakugan Unbox and Brawl 6-Pack, Exclusiv...\u001b[0m\n",
      "\u001b[92m41: Guess: $109.65 Truth: $99.95 Error: $9.70 SLE: 0.01 Item: DC Collectibles Wonder Woman The Art of ...\u001b[0m\n",
      "\u001b[91m42: Guess: $349.00 Truth: $599.00 Error: $250.00 SLE: 0.29 Item: ESP LTD EC-256FM Electric Guitar, See Th...\u001b[0m\n",
      "\u001b[93m43: Guess: $219.00 Truth: $299.00 Error: $80.00 SLE: 0.10 Item: Kreg ACS-SAW Adaptive Cutting System Plu...\u001b[0m\n",
      "\u001b[92m44: Guess: $15.99 Truth: $39.99 Error: $24.00 SLE: 0.78 Item: Mego Star Trek: The Original Series: Mr....\u001b[0m\n",
      "\u001b[93m45: Guess: $127.22 Truth: $176.63 Error: $49.41 SLE: 0.11 Item: Houzer EHD-3118-1 Elite Series Undermoun...\u001b[0m\n",
      "\u001b[92m46: Guess: $174.99 Truth: $149.00 Error: $25.99 SLE: 0.03 Item: smartwoodstore Set of Three Items Foldab...\u001b[0m\n",
      "\u001b[92m47: Guess: $39.98 Truth: $18.99 Error: $20.99 SLE: 0.52 Item: Tavool Stud Finder - 4 in 1 Electronic W...\u001b[0m\n",
      "\u001b[92m48: Guess: $22.99 Truth: $16.99 Error: $6.00 SLE: 0.08 Item: 3.5 mm to Dual XLR Male Pro Stereo Cable...\u001b[0m\n",
      "\u001b[92m49: Guess: $18.65 Truth: $17.95 Error: $0.70 SLE: 0.00 Item: LEGO Minifigure Puzzle\u001b[0m\n",
      "\u001b[91m50: Guess: $262.47 Truth: $152.98 Error: $109.49 SLE: 0.29 Item: Vestil C-130-2 Aluminum Ladder and Cart ...\u001b[0m\n",
      "\u001b[91m51: Guess: $274.00 Truth: $546.56 Error: $272.56 SLE: 0.47 Item: TPI HF3323TDRP Series 3320 Commercial Fa...\u001b[0m\n",
      "\u001b[92m52: Guess: $66.47 Truth: $35.00 Error: $31.47 SLE: 0.39 Item: Bandai Hobby MS-07B3 Gouf Custom, Bandai...\u001b[0m\n",
      "\u001b[91m53: Guess: $29.65 Truth: $124.80 Error: $95.15 SLE: 1.99 Item: NECA - The Terminator - 7\" Action Figure...\u001b[0m\n",
      "\u001b[92m54: Guess: $22.69 Truth: $19.90 Error: $2.79 SLE: 0.02 Item: CMON Zombicide: Edouard Guiton\u001b[0m\n",
      "\u001b[92m55: Guess: $66.47 Truth: $41.60 Error: $24.87 SLE: 0.21 Item: TAMIYA 1/10 Scale R/C 2020 Ford GT Mk II...\u001b[0m\n",
      "\u001b[92m56: Guess: $109.99 Truth: $79.99 Error: $30.00 SLE: 0.10 Item: Sputnik Chandelier Industrial Pendant Li...\u001b[0m\n",
      "\u001b[91m57: Guess: $79.99 Truth: $159.99 Error: $80.00 SLE: 0.47 Item: TSHH Modern Commercial Lead-Free Solid B...\u001b[0m\n",
      "\u001b[93m58: Guess: $66.47 Truth: $129.00 Error: $62.53 SLE: 0.43 Item: Long Pull & Rapid Center Combo - Without...\u001b[0m\n",
      "\u001b[92m59: Guess: $49.65 Truth: $82.82 Error: $33.17 SLE: 0.25 Item: Sunlite LED 48\" Linear Single Strip Fixt...\u001b[0m\n",
      "\u001b[92m60: Guess: $127.22 Truth: $104.99 Error: $22.23 SLE: 0.04 Item: uxcell 3-inch - 4-inch /75mm-100mm Digit...\u001b[0m\n",
      "\u001b[93m61: Guess: $127.22 Truth: $51.52 Error: $75.70 SLE: 0.80 Item: LG G6+ - 128 GB - Unlocked (AT&T/T-Mobil...\u001b[0m\n",
      "\u001b[92m62: Guess: $14.98 Truth: $6.99 Error: $7.99 SLE: 0.48 Item: Set of 4 Brass Hooks Kitchen Cabinet Cup...\u001b[0m\n",
      "\u001b[91m63: Guess: $262.47 Truth: $660.82 Error: $398.35 SLE: 0.85 Item: Square D - HOM4284L225PRB Homeline 225-A...\u001b[0m\n",
      "\u001b[93m64: Guess: $22.99 Truth: $67.99 Error: $45.00 SLE: 1.12 Item: Ayake for iPhone 12 Pro Max Screen Repla...\u001b[0m\n",
      "\u001b[91m65: Guess: $143.65 Truth: $242.17 Error: $98.52 SLE: 0.27 Item: Kenroy Home 90967BL Hatteras Lanterns, 2...\u001b[0m\n",
      "\u001b[91m66: Guess: $47.22 Truth: $156.99 Error: $109.77 SLE: 1.41 Item: Craftsman 230-Piece Mechanics Tool Set, ...\u001b[0m\n",
      "\u001b[92m67: Guess: $47.99 Truth: $49.99 Error: $2.00 SLE: 0.00 Item: VIVEGO 1 Pair 20 Inch 260 Lb Capacity He...\u001b[0m\n",
      "\u001b[92m68: Guess: $65.65 Truth: $97.99 Error: $32.34 SLE: 0.16 Item: American Revolution Tri-Pack\u001b[0m\n",
      "\u001b[92m69: Guess: $127.22 Truth: $113.99 Error: $13.23 SLE: 0.01 Item: U.S. Chemical & Plastics Handy Mask Hand...\u001b[0m\n",
      "\u001b[93m70: Guess: $47.22 Truth: $117.99 Error: $70.77 SLE: 0.82 Item: AMERICAN DJ VF1000 1000W 1 Liter Mobile ...\u001b[0m\n",
      "\u001b[92m71: Guess: $47.22 Truth: $74.99 Error: $27.77 SLE: 0.21 Item: BRK BRANDS, INC BRK First Alert FE1A10GR...\u001b[0m\n",
      "\u001b[93m72: Guess: $143.65 Truth: $77.44 Error: $66.21 SLE: 0.37 Item: Vacmaster Wet/Dry Pump Accessory. PE401\u001b[0m\n",
      "\u001b[91m73: Guess: $262.47 Truth: $563.49 Error: $301.02 SLE: 0.58 Item: Malta Dynamics 50' Warthog Cable Self-Re...\u001b[0m\n",
      "\u001b[91m74: Guess: $174.00 Truth: $84.75 Error: $89.25 SLE: 0.51 Item: Feiss WB1216BRB Maison De Ville Crystal ...\u001b[0m\n",
      "\u001b[93m75: Guess: $143.65 Truth: $199.00 Error: $55.35 SLE: 0.10 Item: Ryobi 18 Volt Air Strike 5/8-2in Brad Na...\u001b[0m\n",
      "\u001b[92m76: Guess: $47.22 Truth: $12.97 Error: $34.25 SLE: 1.53 Item: Westinghouse Lighting 66680 One-Light Fl...\u001b[0m\n",
      "\u001b[92m77: Guess: $139.98 Truth: $158.95 Error: $18.97 SLE: 0.02 Item: 4\" (4 inch) 3 Jaw Precision Self Centeri...\u001b[0m\n",
      "\u001b[93m78: Guess: $128.66 Truth: $189.00 Error: $60.34 SLE: 0.15 Item: HYDELITE Brass Drum Pendant Light 3-Ligh...\u001b[0m\n",
      "\u001b[91m79: Guess: $799.95 Truth: $145.96 Error: $653.99 SLE: 2.88 Item: (Pack of 100) T4 Stud Box Mounting Brack...\u001b[0m\n",
      "\u001b[92m80: Guess: $36.38 Truth: $65.60 Error: $29.22 SLE: 0.33 Item: 14x14x1, Percisionaire Ez Flow Ii Front ...\u001b[0m\n",
      "\u001b[92m81: Guess: $14.98 Truth: $26.00 Error: $11.02 SLE: 0.28 Item: MD0410 Screen Repair Kit Compatible for ...\u001b[0m\n",
      "\u001b[91m82: Guess: $276.10 Truth: $71.99 Error: $204.11 SLE: 1.78 Item: Honeywell Safes & Door Locks 6110 Large ...\u001b[0m\n",
      "\u001b[92m83: Guess: $127.22 Truth: $90.80 Error: $36.42 SLE: 0.11 Item: Platinum Tools 106205 RJ45 Cat6 Shielded...\u001b[0m\n",
      "\u001b[91m84: Guess: $43.66 Truth: $249.99 Error: $206.33 SLE: 2.98 Item: Kotobukiya Kotobukiya DC Comics: Supergi...\u001b[0m\n",
      "\u001b[93m85: Guess: $239.66 Truth: $299.99 Error: $60.33 SLE: 0.05 Item: Ibanez ALT20 Acoustic Open Pore Natural\u001b[0m\n",
      "\u001b[93m86: Guess: $118.99 Truth: $56.99 Error: $62.00 SLE: 0.53 Item: Friho Modern Widespread 3 Hole 2-Handle ...\u001b[0m\n",
      "\u001b[92m87: Guess: $22.22 Truth: $39.99 Error: $17.77 SLE: 0.32 Item: Costume Child Black Fly\u001b[0m\n",
      "\u001b[91m88: Guess: $65.65 Truth: $407.15 Error: $341.50 SLE: 3.28 Item: WAVE Kore wa Zombie Desu ka? of The Dead...\u001b[0m\n",
      "\u001b[93m89: Guess: $154.65 Truth: $107.28 Error: $47.37 SLE: 0.13 Item: Woods 63950021 25' 6-3 NMW/G Wire\u001b[0m\n",
      "\u001b[92m90: Guess: $47.22 Truth: $48.09 Error: $0.87 SLE: 0.00 Item: P3 International P4460 Kill A Watt EZ El...\u001b[0m\n",
      "\u001b[91m91: Guess: $726.65 Truth: $238.00 Error: $488.65 SLE: 1.24 Item: Nuheat 120 V, 48\"x24\" Standard Mat\u001b[0m\n",
      "\u001b[91m92: Guess: $1,271.69 Truth: $899.00 Error: $372.69 SLE: 0.12 Item: JET J-2530, 15-Inch Benchtop Drill Press...\u001b[0m\n",
      "\u001b[91m93: Guess: $22.99 Truth: $189.95 Error: $166.96 SLE: 4.30 Item: Power Hobbies Powerhobby Tamiya TT-02 Al...\u001b[0m\n",
      "\u001b[93m94: Guess: $127.22 Truth: $76.65 Error: $50.57 SLE: 0.25 Item: Shop Fox D3786 Lathe Ring Chisel Set, 3-...\u001b[0m\n",
      "\u001b[92m95: Guess: $49.65 Truth: $42.00 Error: $7.65 SLE: 0.03 Item: Shutoff Switch Kit for Aquatec Booster P...\u001b[0m\n",
      "\u001b[92m96: Guess: $49.90 Truth: $69.79 Error: $19.89 SLE: 0.11 Item: Banpresto Attack on Titan 10.3-Inch Eren...\u001b[0m\n",
      "\u001b[93m97: Guess: $393.69 Truth: $322.79 Error: $70.90 SLE: 0.04 Item: Siemens MC2040B1200EFC 20 Space 40 Circu...\u001b[0m\n",
      "\u001b[92m98: Guess: $18.99 Truth: $11.95 Error: $7.04 SLE: 0.19 Item: Bcov Galaxy A21 Case, Sun Eye Sea Leathe...\u001b[0m\n",
      "\u001b[92m99: Guess: $110.47 Truth: $144.99 Error: $34.52 SLE: 0.07 Item: SAFAVIEH Lighting Collection Arabelle Mo...\u001b[0m\n",
      "\u001b[92m100: Guess: $47.99 Truth: $80.96 Error: $32.97 SLE: 0.26 Item: Taucent Black Bathroom Sink Faucet 3-Hol...\u001b[0m\n",
      "\u001b[93m101: Guess: $174.99 Truth: $108.90 Error: $66.09 SLE: 0.22 Item: Aquaterior Rectangle White Porcelain Cer...\u001b[0m\n",
      "\u001b[92m102: Guess: $23.47 Truth: $18.99 Error: $4.48 SLE: 0.04 Item: Areful 120V 60Hz 0.3A Strip Lights Power...\u001b[0m\n",
      "\u001b[93m103: Guess: $10.99 Truth: $89.99 Error: $79.00 SLE: 4.11 Item: RECETHROWS Wall Mural Stack of Wooden Wh...\u001b[0m\n",
      "\u001b[92m104: Guess: $43.66 Truth: $48.99 Error: $5.33 SLE: 0.01 Item: PALM ROYAL HANDICRAFTS 3 Track Continuou...\u001b[0m\n",
      "\u001b[92m105: Guess: $65.98 Truth: $52.68 Error: $13.30 SLE: 0.05 Item: Fancy Buying [2 Pack] 6000mAh 18V Replac...\u001b[0m\n",
      "\u001b[93m106: Guess: $143.65 Truth: $101.47 Error: $42.18 SLE: 0.12 Item: Pfister R891DEK, Brushed Nickel\u001b[0m\n",
      "\u001b[91m107: Guess: $1,393.00 Truth: $799.00 Error: $594.00 SLE: 0.31 Item: Baileigh TN-250 Tube and Pipe Notcher\u001b[0m\n",
      "\u001b[92m108: Guess: $47.99 Truth: $87.99 Error: $40.00 SLE: 0.36 Item: Maxax 25\" Ceramic Table Lamp, Traditiona...\u001b[0m\n",
      "\u001b[91m109: Guess: $196.43 Truth: $76.21 Error: $120.22 SLE: 0.88 Item: Light-N-Carry LNC2251 Magnetic Base Rech...\u001b[0m\n",
      "\u001b[93m110: Guess: $221.65 Truth: $292.40 Error: $70.75 SLE: 0.08 Item: Bobelock 1047FV Red Fiberglass 4/4 Violi...\u001b[0m\n",
      "\u001b[92m111: Guess: $239.66 Truth: $246.39 Error: $6.73 SLE: 0.00 Item: Stagg EVN X-4/4 MBK Electric Violin\u001b[0m\n",
      "\u001b[92m112: Guess: $83.99 Truth: $77.18 Error: $6.81 SLE: 0.01 Item: Victorinox Swisschamp Multi-Tool (Sapphi...\u001b[0m\n",
      "\u001b[92m113: Guess: $139.98 Truth: $123.34 Error: $16.64 SLE: 0.02 Item: Buho Ryobi Drill Set Bundle with Ryobi 1...\u001b[0m\n",
      "\u001b[92m114: Guess: $10.57 Truth: $9.29 Error: $1.28 SLE: 0.01 Item: Stens 100-317 Tecumseh 36745 Air Filter\u001b[0m\n",
      "\u001b[92m115: Guess: $262.47 Truth: $299.99 Error: $37.52 SLE: 0.02 Item: Meinl Percussion HT1314CH Headliner Seri...\u001b[0m\n",
      "\u001b[92m116: Guess: $43.66 Truth: $51.99 Error: $8.33 SLE: 0.03 Item: Wet Works Imaging Customized Pyramex Ful...\u001b[0m\n",
      "\u001b[91m117: Guess: $349.99 Truth: $589.99 Error: $240.00 SLE: 0.27 Item: VEVOR Concession Window 60 x 36 inch, Al...\u001b[0m\n",
      "\u001b[92m118: Guess: $109.99 Truth: $78.00 Error: $31.99 SLE: 0.12 Item: Benchtop Digital Multimeter ZT5566 Multi...\u001b[0m\n",
      "\u001b[92m119: Guess: $174.99 Truth: $198.00 Error: $23.01 SLE: 0.02 Item: 12 Ft. x 20 Ft. Gray Flame Retardant Vin...\u001b[0m\n",
      "\u001b[92m120: Guess: $25.99 Truth: $21.99 Error: $4.00 SLE: 0.03 Item: Hasbro Gaming Don't Wake Daddy Preschool...\u001b[0m\n",
      "\u001b[92m121: Guess: $47.22 Truth: $71.75 Error: $24.53 SLE: 0.17 Item: Funko POP! Disney: Moana - Shark Head Ma...\u001b[0m\n",
      "\u001b[93m122: Guess: $22.22 Truth: $69.99 Error: $47.77 SLE: 1.25 Item: Pokémon TCG: Sun & Moon - Legends of Alo...\u001b[0m\n",
      "\u001b[92m123: Guess: $11.98 Truth: $11.99 Error: $0.01 SLE: 0.00 Item: Ringke Full Cover Glass Compatible with ...\u001b[0m\n",
      "\u001b[91m124: Guess: $136.99 Truth: $236.99 Error: $100.00 SLE: 0.30 Item: HiMyLEN Shower Faucet Set Brushed Gold 1...\u001b[0m\n",
      "\u001b[92m125: Guess: $25.99 Truth: $34.99 Error: $9.00 SLE: 0.08 Item: CLOUDMUSIC Hawaiian Hibiscus and Palm Uk...\u001b[0m\n",
      "\u001b[92m126: Guess: $47.22 Truth: $38.85 Error: $8.37 SLE: 0.04 Item: BAYCO 2120-BRACKET Replacement Cradle Br...\u001b[0m\n",
      "\u001b[91m127: Guess: $47.22 Truth: $381.92 Error: $334.70 SLE: 4.29 Item: Hutchins - Sander Random Orbital Action ...\u001b[0m\n",
      "\u001b[92m128: Guess: $47.99 Truth: $32.99 Error: $15.00 SLE: 0.13 Item: Galaxy Z Fold 3 Case, Magnetic Hinge Pro...\u001b[0m\n",
      "\u001b[91m129: Guess: $47.22 Truth: $900.00 Error: $852.78 SLE: 8.57 Item: ROHL LS59L-PN-2 Kitchen FAUCETS, 4.00 x ...\u001b[0m\n",
      "\u001b[92m130: Guess: $103.32 Truth: $107.48 Error: $4.16 SLE: 0.00 Item: Delta Faucet Classic Chrome Bar Faucet, ...\u001b[0m\n",
      "\u001b[92m131: Guess: $76.43 Truth: $69.07 Error: $7.36 SLE: 0.01 Item: Aerostar 16x20x4 Slim (15 1/2\" x 19 1/2\"...\u001b[0m\n",
      "\u001b[93m132: Guess: $393.69 Truth: $651.00 Error: $257.31 SLE: 0.25 Item: RAM Gameroom Products 44-Inch Filigree B...\u001b[0m\n",
      "\u001b[93m133: Guess: $66.47 Truth: $109.24 Error: $42.77 SLE: 0.24 Item: Triton Products DB-2 Two DuraBoard White...\u001b[0m\n",
      "\u001b[93m134: Guess: $99.99 Truth: $50.00 Error: $49.99 SLE: 0.47 Item: UV Germicidal Light UVC Lamp Timer | UV ...\u001b[0m\n",
      "\u001b[93m135: Guess: $22.99 Truth: $75.00 Error: $52.01 SLE: 1.33 Item: Adjustable Angle Connectors for Easy Ins...\u001b[0m\n",
      "\u001b[91m136: Guess: $66.47 Truth: $149.99 Error: $83.52 SLE: 0.65 Item: TheFootrailStore.com 2\" OD Satin Stainle...\u001b[0m\n",
      "\u001b[92m137: Guess: $65.98 Truth: $29.99 Error: $35.99 SLE: 0.59 Item: CRZKO Baby Balance Bikes, Baby Walker, B...\u001b[0m\n",
      "\u001b[93m138: Guess: $143.65 Truth: $67.04 Error: $76.61 SLE: 0.57 Item: Supply Giant AOB12100 Oxygen Barrier Pip...\u001b[0m\n",
      "\u001b[91m139: Guess: $109.99 Truth: $295.97 Error: $185.98 SLE: 0.97 Item: LEGO Creator Family Home (6754)\u001b[0m\n",
      "\u001b[91m140: Guess: $66.47 Truth: $169.16 Error: $102.69 SLE: 0.86 Item: LG 6871DD1006Q Genuine OEM Main Control ...\u001b[0m\n",
      "\u001b[92m141: Guess: $22.22 Truth: $11.56 Error: $10.66 SLE: 0.38 Item: Star Wars Episode 7 Pop! First Order Sno...\u001b[0m\n",
      "\u001b[91m142: Guess: $57.65 Truth: $200.80 Error: $143.15 SLE: 1.53 Item: Bon Tool 21-248 Stone Set Carbide Hammer...\u001b[0m\n",
      "\u001b[92m143: Guess: $47.22 Truth: $59.88 Error: $12.66 SLE: 0.05 Item: 18x24x4 MERV 10 AC & Furnace 4\" Depth Ai...\u001b[0m\n",
      "\u001b[93m144: Guess: $788.95 Truth: $619.99 Error: $168.96 SLE: 0.06 Item: GRABBER CONST DMP125-100 Deck master Hid...\u001b[0m\n",
      "\u001b[92m145: Guess: $43.66 Truth: $21.99 Error: $21.67 SLE: 0.44 Item: Display for Xiaomi Redmi Note 7/Redmi No...\u001b[0m\n",
      "\u001b[92m146: Guess: $14.65 Truth: $28.14 Error: $13.49 SLE: 0.39 Item: KWIKSET 660 15 RCAL RCS K3 Satin Nickel ...\u001b[0m\n",
      "\u001b[91m147: Guess: $726.65 Truth: $290.46 Error: $436.19 SLE: 0.84 Item: PROXXON Chop and Miter Saw KGS 80, 37160...\u001b[0m\n",
      "\u001b[92m148: Guess: $65.69 Truth: $82.95 Error: $17.26 SLE: 0.05 Item: Grizzly H8048 6-Inch 4-Jaw Chuck, 3/4-In...\u001b[0m\n",
      "\u001b[91m149: Guess: $219.98 Truth: $380.00 Error: $160.02 SLE: 0.30 Item: Samsung Galaxy S21 Ultra 5G, US Version,...\u001b[0m\n",
      "\u001b[93m150: Guess: $179.99 Truth: $118.99 Error: $61.00 SLE: 0.17 Item: LOYALHEARTDY Antler Chandelier Lighting ...\u001b[0m\n",
      "\u001b[92m151: Guess: $30.47 Truth: $57.50 Error: $27.03 SLE: 0.38 Item: Barbie Sisters Barbie and Stacie Doll (2...\u001b[0m\n",
      "\u001b[92m152: Guess: $22.22 Truth: $29.09 Error: $6.87 SLE: 0.07 Item: Bondhus 74937 Set of 13 Balldriver L-wre...\u001b[0m\n",
      "\u001b[93m153: Guess: $22.22 Truth: $92.00 Error: $69.78 SLE: 1.93 Item: LIFTMASTER Garage Door Openers 41A5434-1...\u001b[0m\n",
      "\u001b[92m154: Guess: $11.98 Truth: $4.49 Error: $7.49 SLE: 0.74 Item: GU10 TO MR16 BIPIN SOCKET ADAPTER INDUST...\u001b[0m\n",
      "\u001b[92m155: Guess: $47.95 Truth: $53.95 Error: $6.00 SLE: 0.01 Item: Soliman Bay Palms Wall Stencil - Tropica...\u001b[0m\n",
      "\u001b[92m156: Guess: $66.47 Truth: $53.99 Error: $12.48 SLE: 0.04 Item: FEOTDN 2Pack 6.0Ah P108 18Volt Li-ion Re...\u001b[0m\n",
      "\u001b[93m157: Guess: $47.22 Truth: $104.85 Error: $57.63 SLE: 0.62 Item: Allparts Leo Quan Bass II Bridge - Chrom...\u001b[0m\n",
      "\u001b[92m158: Guess: $49.00 Truth: $27.54 Error: $21.46 SLE: 0.31 Item: Boya BY-DM200 Plug in Microphone Digital...\u001b[0m\n",
      "\u001b[92m159: Guess: $127.22 Truth: $101.71 Error: $25.51 SLE: 0.05 Item: SKIL 7-Inch Wet Tile Saw - 3540-02\u001b[0m\n",
      "\u001b[92m160: Guess: $83.99 Truth: $49.99 Error: $34.00 SLE: 0.26 Item: DEWENWILS 2-Pack Outdoor Light Fixtures,...\u001b[0m\n",
      "\u001b[92m161: Guess: $22.99 Truth: $9.99 Error: $13.00 SLE: 0.61 Item: AC Adapter for Casio CTK-3000 CTK-401 Ke...\u001b[0m\n",
      "\u001b[91m162: Guess: $47.22 Truth: $223.18 Error: $175.96 SLE: 2.36 Item: Magic: The Gathering The Lord of The Rin...\u001b[0m\n",
      "\u001b[92m163: Guess: $65.65 Truth: $98.21 Error: $32.56 SLE: 0.16 Item: Akro-Mils 30718 Economy Stacking Shelf P...\u001b[0m\n",
      "\u001b[92m164: Guess: $47.22 Truth: $85.14 Error: $37.92 SLE: 0.34 Item: GLOB PRO SOLUTIONS PD00028442 AP5981358 ...\u001b[0m\n",
      "\u001b[91m165: Guess: $109.00 Truth: $342.50 Error: $233.50 SLE: 1.30 Item: DJI FPV Goggles V2 for Drone Racing Imme...\u001b[0m\n",
      "\u001b[93m166: Guess: $109.65 Truth: $69.01 Error: $40.64 SLE: 0.21 Item: Trapper Coral Sea\u001b[0m\n",
      "\u001b[91m167: Guess: $47.22 Truth: $399.97 Error: $352.75 SLE: 4.49 Item: Straight Talk Samsung Galaxy S10 SM-G973...\u001b[0m\n",
      "\u001b[93m168: Guess: $83.00 Truth: $150.49 Error: $67.49 SLE: 0.35 Item: Naniwa Diamond Whetstone Grit #800 DR-75...\u001b[0m\n",
      "\u001b[92m169: Guess: $164.50 Truth: $175.27 Error: $10.77 SLE: 0.00 Item: Relaxdays Folding Saw Horse Set of 2, Tr...\u001b[0m\n",
      "\u001b[92m170: Guess: $65.65 Truth: $89.21 Error: $23.56 SLE: 0.09 Item: Delta Faucet 59552-PK Hand Shower, Chrom...\u001b[0m\n",
      "\u001b[92m171: Guess: $47.99 Truth: $71.18 Error: $23.19 SLE: 0.15 Item: Rainbow Gliderz Horizon Swing, 47.25\", B...\u001b[0m\n",
      "\u001b[92m172: Guess: $66.47 Truth: $54.49 Error: $11.98 SLE: 0.04 Item: Keson LKB24 Aluminum Box Beam Level with...\u001b[0m\n",
      "\u001b[93m173: Guess: $128.66 Truth: $57.23 Error: $71.43 SLE: 0.64 Item: Stabila 22948 48-Inch 70-2 Homeowner Ser...\u001b[0m\n",
      "\u001b[92m174: Guess: $219.00 Truth: $269.99 Error: $50.99 SLE: 0.04 Item: GX PUMP PCP Air Compressor CS1-I with Bu...\u001b[0m\n",
      "\u001b[92m175: Guess: $34.65 Truth: $19.95 Error: $14.70 SLE: 0.28 Item: Forum Novelties 56-Inch Red Velvet Cape\u001b[0m\n",
      "\u001b[92m176: Guess: $127.22 Truth: $95.99 Error: $31.23 SLE: 0.08 Item: Kichler 9805BK Madison Outdoor Pendant 1...\u001b[0m\n",
      "\u001b[91m177: Guess: $66.47 Truth: $149.00 Error: $82.53 SLE: 0.64 Item: Ludwig Straight Cymbal Stand (LAP27CS)\u001b[0m\n",
      "\u001b[91m178: Guess: $277.65 Truth: $758.00 Error: $480.35 SLE: 1.00 Item: Capital Lighting 330561IW Bluffton Indus...\u001b[0m\n",
      "\u001b[93m179: Guess: $43.66 Truth: $88.00 Error: $44.34 SLE: 0.48 Item: Alex Cramer Company Golden Gate Dice Cup...\u001b[0m\n",
      "\u001b[93m180: Guess: $22.22 Truth: $66.39 Error: $44.17 SLE: 1.14 Item: Bel Air Lighting TG4050 BK Transitional ...\u001b[0m\n",
      "\u001b[91m181: Guess: $127.99 Truth: $610.31 Error: $482.32 SLE: 2.42 Item: Rhegeneshop New 110V T870A BGA IRDA Iron...\u001b[0m\n",
      "\u001b[92m182: Guess: $47.22 Truth: $36.95 Error: $10.27 SLE: 0.06 Item: Mud Pie Octivity Pal (Pink)\u001b[0m\n",
      "\u001b[92m183: Guess: $18.65 Truth: $18.99 Error: $0.34 SLE: 0.00 Item: Renovators Supply Manufacturing Slide Bo...\u001b[0m\n",
      "\u001b[92m184: Guess: $22.99 Truth: $52.66 Error: $29.67 SLE: 0.65 Item: Eztronics Corp® Fit Snap-On 7.2V CTB5172...\u001b[0m\n",
      "\u001b[93m185: Guess: $118.10 Truth: $41.00 Error: $77.10 SLE: 1.09 Item: Static Care ESD Jacket,Medium Weight 90%...\u001b[0m\n",
      "\u001b[92m186: Guess: $66.47 Truth: $104.21 Error: $37.74 SLE: 0.20 Item: DAX Carbon Fiber Hard Hat - Full Brim Ma...\u001b[0m\n",
      "\u001b[91m187: Guess: $22.22 Truth: $399.99 Error: $377.77 SLE: 8.12 Item: Harry Potter Card Game - Adventure at Ho...\u001b[0m\n",
      "\u001b[93m188: Guess: $66.47 Truth: $123.46 Error: $56.99 SLE: 0.37 Item: Halo Recessed H27T-6PK Housing Shallow C...\u001b[0m\n",
      "\u001b[92m189: Guess: $31.95 Truth: $24.00 Error: $7.95 SLE: 0.08 Item: Pocket Pets Live Yellow Poke-A-Dot Bugki...\u001b[0m\n",
      "\u001b[92m190: Guess: $22.99 Truth: $19.99 Error: $3.00 SLE: 0.02 Item: AKOLAFE 16PCS Wide L Brackets Heavy Duty...\u001b[0m\n",
      "\u001b[92m191: Guess: $65.65 Truth: $96.28 Error: $30.63 SLE: 0.14 Item: Peerless Sidekick Touch-Clean Shower Hea...\u001b[0m\n",
      "\u001b[92m192: Guess: $22.99 Truth: $23.99 Error: $1.00 SLE: 0.00 Item: allsun 6-24Vdc Automotive Electric Circu...\u001b[0m\n",
      "\u001b[91m193: Guess: $174.99 Truth: $349.99 Error: $175.00 SLE: 0.48 Item: Bench Dog® Tools No. 7 Jointer Plane\u001b[0m\n",
      "\u001b[92m194: Guess: $65.65 Truth: $77.00 Error: $11.35 SLE: 0.02 Item: Mega Bloks Halo UNSC Gungoose\u001b[0m\n",
      "\u001b[91m195: Guess: $127.22 Truth: $258.50 Error: $131.28 SLE: 0.50 Item: (Case of 40) GE 46699 - F24W/T5/830/ECO ...\u001b[0m\n",
      "\u001b[92m196: Guess: $118.99 Truth: $135.99 Error: $17.00 SLE: 0.02 Item: Brushed Gold Touch On Kitchen Faucet wit...\u001b[0m\n",
      "\u001b[91m197: Guess: $239.66 Truth: $57.80 Error: $181.86 SLE: 1.99 Item: Maxim 2681MRSN Malaga Round Marble Glass...\u001b[0m\n",
      "\u001b[91m198: Guess: $47.22 Truth: $318.00 Error: $270.78 SLE: 3.57 Item: AKG C417 L Clip on Lavalier Microphone S...\u001b[0m\n",
      "\u001b[93m199: Guess: $154.65 Truth: $211.60 Error: $56.95 SLE: 0.10 Item: Amsec ESL10XL Electronic Keypad & Lock -...\u001b[0m\n",
      "\u001b[92m200: Guess: $139.98 Truth: $154.99 Error: $15.01 SLE: 0.01 Item: IYUNXI LED Modern Spiral Floor Lamp with...\u001b[0m\n",
      "\u001b[92m201: Guess: $65.98 Truth: $71.99 Error: $6.01 SLE: 0.01 Item: FLQMYQ 3 Pack Outdoor Wall Lights Wall M...\u001b[0m\n",
      "\u001b[91m202: Guess: $127.99 Truth: $229.95 Error: $101.96 SLE: 0.34 Item: WuYue Chinese 2 Strings Traditional Nati...\u001b[0m\n",
      "\u001b[91m203: Guess: $32.99 Truth: $117.00 Error: $84.01 SLE: 1.55 Item: 24\"x 24\" Carpet Tile Peel and Place - Cr...\u001b[0m\n",
      "\u001b[92m204: Guess: $8.99 Truth: $3.99 Error: $5.00 SLE: 0.48 Item: eTECH Collection 3 Pack of Anti-Glare & ...\u001b[0m\n",
      "\u001b[93m205: Guess: $143.65 Truth: $99.95 Error: $43.70 SLE: 0.13 Item: Replogle(R) Livingston Illuminated Globe...\u001b[0m\n",
      "\u001b[92m206: Guess: $65.65 Truth: $102.56 Error: $36.91 SLE: 0.19 Item: Westinghouse Lighting 7213500 Petite Ind...\u001b[0m\n",
      "\u001b[91m207: Guess: $1,271.69 Truth: $466.61 Error: $805.08 SLE: 1.00 Item: Tycoon Percussion Conga Drum (STCS-B KS/...\u001b[0m\n",
      "\u001b[93m208: Guess: $594.65 Truth: $454.10 Error: $140.55 SLE: 0.07 Item: Craftmade WTP72FB8 Wingtip 72\" Large Cei...\u001b[0m\n",
      "\u001b[92m209: Guess: $49.99 Truth: $23.92 Error: $26.07 SLE: 0.51 Item: Leatherman MUT Multitool Zubehörsatz in ...\u001b[0m\n",
      "\u001b[91m210: Guess: $47.22 Truth: $143.72 Error: $96.50 SLE: 1.21 Item: Kohler R22867-SD-VS Maxton Pull-Down Kit...\u001b[0m\n",
      "\u001b[92m211: Guess: $47.22 Truth: $32.99 Error: $14.23 SLE: 0.12 Item: Jokari Industrial Strength Air Gun Stapl...\u001b[0m\n",
      "\u001b[91m212: Guess: $22.22 Truth: $154.43 Error: $132.21 SLE: 3.61 Item: Satco S22253 33 Watt PAR38 High Lumen LE...\u001b[0m\n",
      "\u001b[92m213: Guess: $143.65 Truth: $163.85 Error: $20.20 SLE: 0.02 Item: Whitehaus LUA4-POCH China Series 22-Inch...\u001b[0m\n",
      "\u001b[91m214: Guess: $139.98 Truth: $53.99 Error: $85.99 SLE: 0.89 Item: LUCKYERMORE Folding Poker Table Top 47” ...\u001b[0m\n",
      "\u001b[92m215: Guess: $43.66 Truth: $21.00 Error: $22.66 SLE: 0.50 Item: Kreg KPHJ310 Pocket-Hole Jig 310 - Small...\u001b[0m\n",
      "\u001b[92m216: Guess: $17.99 Truth: $8.39 Error: $9.60 SLE: 0.50 Item: Chanroy Compatible with iPhone 11 Pro(5....\u001b[0m\n",
      "\u001b[91m217: Guess: $65.98 Truth: $149.99 Error: $84.01 SLE: 0.66 Item: Auto Line Drill Guide, Portable Guide Al...\u001b[0m\n",
      "\u001b[92m218: Guess: $128.66 Truth: $127.99 Error: $0.67 SLE: 0.00 Item: Ora Modern 4-Light Bathroom Vanity Wall ...\u001b[0m\n",
      "\u001b[93m219: Guess: $65.65 Truth: $23.47 Error: $42.18 SLE: 1.00 Item: BCW 3\" x 4\" Topload Card Holder for Stan...\u001b[0m\n",
      "\u001b[92m220: Guess: $66.47 Truth: $69.00 Error: $2.53 SLE: 0.00 Item: Generic Macrame Swing ChairsHandmade Swi...\u001b[0m\n",
      "\u001b[91m221: Guess: $47.22 Truth: $279.99 Error: $232.77 SLE: 3.11 Item: DW Drum Workshop Single Tom Stand\u001b[0m\n",
      "\u001b[92m222: Guess: $47.22 Truth: $38.21 Error: $9.01 SLE: 0.04 Item: Carl Fischer Guitar Lore-Dennis Sandole-...\u001b[0m\n",
      "\u001b[92m223: Guess: $22.99 Truth: $5.99 Error: $17.00 SLE: 1.52 Item: Galaxy Wireless Compatible for ZTE ZFive...\u001b[0m\n",
      "\u001b[92m224: Guess: $109.90 Truth: $77.00 Error: $32.90 SLE: 0.12 Item: Dawn LTS120304 Thames River Series Linea...\u001b[0m\n",
      "\u001b[92m225: Guess: $83.99 Truth: $99.99 Error: $16.00 SLE: 0.03 Item: hykolity Low Voltage LED Landscape Deck ...\u001b[0m\n",
      "\u001b[92m226: Guess: $13.99 Truth: $13.99 Error: $0.00 SLE: 0.00 Item: #5 It's not About Being The Best It's Ab...\u001b[0m\n",
      "\u001b[91m227: Guess: $34.65 Truth: $159.99 Error: $125.34 SLE: 2.27 Item: Funko Movies: POP! Elf Collectors Set: J...\u001b[0m\n",
      "\u001b[91m228: Guess: $47.99 Truth: $259.99 Error: $212.00 SLE: 2.80 Item: DC HOUSE 32 Watt Solar Attic Fan Solar P...\u001b[0m\n",
      "\u001b[92m229: Guess: $23.47 Truth: $8.99 Error: $14.48 SLE: 0.80 Item: [2+2 Pack] EASGES Privacy Screen Protect...\u001b[0m\n",
      "\u001b[92m230: Guess: $22.99 Truth: $12.97 Error: $10.02 SLE: 0.29 Item: 5Pcs Spring Steel Bender Set 1/4\" 5/16\" ...\u001b[0m\n",
      "\u001b[92m231: Guess: $34.65 Truth: $22.95 Error: $11.70 SLE: 0.16 Item: Sophia's - 18\" Doll - Polka Dot Rain Jac...\u001b[0m\n",
      "\u001b[92m232: Guess: $139.98 Truth: $125.00 Error: $14.98 SLE: 0.01 Item: Herocross Star Wars HMF-024: C-3PO & R2-...\u001b[0m\n",
      "\u001b[91m233: Guess: $65.65 Truth: $184.99 Error: $119.34 SLE: 1.05 Item: Hinge Doctor HA1 And HA3 Set For Commerc...\u001b[0m\n",
      "\u001b[92m234: Guess: $49.90 Truth: $44.95 Error: $4.95 SLE: 0.01 Item: LampPix 10.00 Inch Table Lamp Shade - Ma...\u001b[0m\n",
      "\u001b[93m235: Guess: $127.22 Truth: $194.44 Error: $67.22 SLE: 0.18 Item: SELKIRK CORP 206148 6x48 Stainless Steel...\u001b[0m\n",
      "\u001b[93m236: Guess: $149.99 Truth: $77.90 Error: $72.09 SLE: 0.42 Item: Yescom Water Filter System Ultra-Filtrat...\u001b[0m\n",
      "\u001b[92m237: Guess: $65.65 Truth: $26.73 Error: $38.92 SLE: 0.77 Item: HDX 600-Watt Halogen Portable Work Light\u001b[0m\n",
      "\u001b[92m238: Guess: $33.65 Truth: $33.50 Error: $0.15 SLE: 0.00 Item: BQLZR Red 12 Spoke Plastic Wheel Rim and...\u001b[0m\n",
      "\u001b[92m239: Guess: $5.99 Truth: $20.98 Error: $14.99 SLE: 1.31 Item: Monster High Minis Wave 1 Assorted Figur...\u001b[0m\n",
      "\u001b[93m240: Guess: $66.47 Truth: $129.69 Error: $63.22 SLE: 0.44 Item: Guecar 4-Pack Smart Hardscape Lighting, ...\u001b[0m\n",
      "\u001b[92m241: Guess: $47.22 Truth: $71.43 Error: $24.21 SLE: 0.17 Item: Little Buddy USA Animal Crossing New Lea...\u001b[0m\n",
      "\u001b[92m242: Guess: $47.99 Truth: $59.00 Error: $11.01 SLE: 0.04 Item: EMB - EBM60E Yellow VHF Dual Wireless Ha...\u001b[0m\n",
      "\u001b[91m243: Guess: $726.65 Truth: $162.69 Error: $563.96 SLE: 2.23 Item: KRAUS KEU-14WHITE Pintura 16 Gauge Under...\u001b[0m\n",
      "\u001b[92m244: Guess: $10.49 Truth: $9.95 Error: $0.54 SLE: 0.00 Item: Bendon Finding Dory Small Wooden Stamp S...\u001b[0m\n",
      "\u001b[93m245: Guess: $14.65 Truth: $64.99 Error: $50.34 SLE: 2.07 Item: WWE Paige Basic Series #105 Action Figur...\u001b[0m\n",
      "\u001b[92m246: Guess: $22.22 Truth: $21.16 Error: $1.06 SLE: 0.00 Item: Cantex 5133331 Weatherproof Cover, PVC B...\u001b[0m\n",
      "\u001b[92m247: Guess: $127.22 Truth: $159.00 Error: $31.78 SLE: 0.05 Item: Timberchic Pine Wooden Wall Planks - Sim...\u001b[0m\n",
      "\u001b[91m248: Guess: $276.00 Truth: $136.80 Error: $139.20 SLE: 0.49 Item: Paddle 1 LT Wall Sconce\u001b[0m\n",
      "\u001b[92m249: Guess: $499.98 Truth: $578.00 Error: $78.02 SLE: 0.02 Item: Steinberger GTPROBK1 Solid-Body Electric...\u001b[0m\n",
      "\u001b[91m250: Guess: $262.47 Truth: $138.40 Error: $124.07 SLE: 0.41 Item: Pentair Water Pumps 2161 Simer 2905 Auto...\u001b[0m\n"
     ]
    },
    {
     "data": {
      "image/png": "[encoded data removed]",
      "text/plain": [
       "<Figure size 1200x800 with 1 Axes>"
      ]
     },
     "metadata": {},
     "output_type": "display_data"
    }
   ],
   "source": [
    "Tester.test(gpt_fine_tuned, test)"
   ]
  },
  {
   "cell_type": "code",
   "execution_count": null,
   "id": "396716a0-a77f-4cb4-a55f-ae4414bd32e9",
   "metadata": {},
   "outputs": [],
   "source": []
  }
 ],
 "metadata": {
  "kernelspec": {
   "display_name": "Python 3 (ipykernel)",
   "language": "python",
   "name": "python3"
  },
  "language_info": {
   "codemirror_mode": {
    "name": "ipython",
    "version": 3
   },
   "file_extension": ".py",
   "mimetype": "text/x-python",
   "name": "python",
   "nbconvert_exporter": "python",
   "pygments_lexer": "ipython3",
   "version": "3.11.11"
  }
 },
 "nbformat": 4,
 "nbformat_minor": 5
}
